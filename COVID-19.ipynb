{
 "cells": [
  {
   "cell_type": "markdown",
   "metadata": {},
   "source": [
    "# COVID-19 Predictions\n",
    "CS 3281 Final Project by Canwen Jiao, April 2020"
   ]
  },
  {
   "cell_type": "code",
   "execution_count": 196,
   "metadata": {},
   "outputs": [
    {
     "data": {
      "text/plain": [
       "(109, 20, 4, 1, (109, 20, 1), (109, 4, 1))"
      ]
     },
     "execution_count": 196,
     "metadata": {},
     "output_type": "execute_result"
    }
   ],
   "source": [
    "\"\"\" DATA PREPROCESSING \"\"\"\n",
    "\n",
    "# The data comes from: @https://data.humdata.org/dataset/novel-coronavirus-2019-ncov-cases\n",
    "# It's in CSV format where each row shows the progression of cases for \n",
    "# a country or a state/province of a country\n",
    "\n",
    "# Reference to some of the LSTM code:\n",
    "# @https://machinelearningmastery.com/how-to-develop-lstm-models-for-time-series-forecasting/\n",
    "\n",
    "import csv\n",
    "import numpy as np\n",
    "\n",
    "n_samples = 109  # how many training samples we wish to obtain (<= 264)\n",
    "n_steps_in = 20  # how many days of previous values we wish to account for\n",
    "n_steps_out = 4  # how many days we wish to predict\n",
    "# Note: n_steps_in + n_steps_out <= 87 (= 2020-04-27 - 2020-01-22)\n",
    "norm = 9999  # normalization factor\n",
    "\n",
    "def read_data(filename):\n",
    "    Xtrain, ytrain = [], []\n",
    "    Xtest, ytest = [], []\n",
    "    with open(filename) as f:\n",
    "        r = csv.reader(f)\n",
    "        next(r, None)  # skip header\n",
    "        for row in r:\n",
    "            # Starting from the 5th column of each row (index 4) shows the\n",
    "            # progression of cases starting 01/22/2020\n",
    "            if row[1] == 'US':  # Exclude the United States, since it's used for testing\n",
    "                Xtest=[int(x) for x in row[-n_steps_out - n_steps_in:-n_steps_out]]\n",
    "                ytest=[int(x) for x in row[-n_steps_out:]]\n",
    "            else:\n",
    "                Xtrain.append([int(x) for x in row[-n_steps_out - n_steps_in:-n_steps_out]])\n",
    "                ytrain.append([int(x) for x in row[-n_steps_out:]])\n",
    "    return Xtrain[:n_samples], ytrain[:n_samples], Xtest, ytest\n",
    "\n",
    "Xc, yc, Xct, yct = read_data('time_series_covid19_confirmed_global.csv')  # confirmed\n",
    "Xd, yd, Xdt, ydt = read_data('time_series_covid19_deaths_global.csv')   # death\n",
    "\n",
    "X = np.array([Xc, Xd])\n",
    "Xt = np.array([Xct, Xdt])\n",
    "\n",
    "n_features = X.shape[0]  # =2\n",
    "\n",
    "# reshape the data so that it could be fed into the LSTM model\n",
    "# also normalize the data so that the loss doesn't explode\n",
    "X = X.reshape((n_samples, n_steps_in, n_features)) / norm\n",
    "yc = np.array(yc).reshape((n_samples, n_steps_out, 1)) / norm\n",
    "Xt = Xt.transpose().reshape((1, n_steps_in, n_features)) / norm\n",
    "yct = np.array(yct) \n",
    "\n",
    "(n_samples, n_steps_in, n_steps_out, n_features, X.shape, yc.shape)"
   ]
  },
  {
   "cell_type": "code",
   "execution_count": 191,
   "metadata": {},
   "outputs": [],
   "source": [
    "from numpy import array\n",
    "from keras.models import Sequential\n",
    "from keras.layers import LSTM\n",
    "from keras.layers import Dense\n",
    "from keras.layers import RepeatVector\n",
    "from keras.layers import TimeDistributed\n",
    "from matplotlib import pyplot as plt\n",
    "\n",
    "def plot(history):  # Plot training & validation accuracy values\n",
    "    plt.plot(history.history['loss'])\n",
    "    plt.title('Loss')\n",
    "    plt.xlabel('Epoch')\n",
    "    plt.legend(['loss'], loc='upper left')\n",
    "    plt.show()\n",
    "\n",
    "def pred(model):  # predict\n",
    "    global ycp\n",
    "    ycp = model.predict(Xt, verbose=1) * norm\n",
    "    # print(ycp[0])\n",
    "    plt.plot(ycp.reshape(n_steps_out))\n",
    "    plt.plot(yct.reshape(n_steps_out))\n",
    "    plt.title('Predicted cases VS actual cases')\n",
    "    plt.ylabel('# of cases')\n",
    "    plt.xlabel('Days')\n",
    "    plt.legend(['predicted', 'actual'], loc='upper left')\n",
    "    plt.show()"
   ]
  },
  {
   "cell_type": "code",
   "execution_count": 192,
   "metadata": {
    "scrolled": true
   },
   "outputs": [
    {
     "data": {
      "image/png": "[encoded data removed]",
      "text/plain": [
       "<Figure size 432x288 with 1 Axes>"
      ]
     },
     "metadata": {
      "needs_background": "light"
     },
     "output_type": "display_data"
    },
    {
     "name": "stdout",
     "output_type": "stream",
     "text": [
      "\r",
      "1/1 [==============================] - 0s 95ms/step\n"
     ]
    },
    {
     "data": {
      "image/png": "[encoded data removed]",
      "text/plain": [
       "<Figure size 432x288 with 1 Axes>"
      ]
     },
     "metadata": {
      "needs_background": "light"
     },
     "output_type": "display_data"
    }
   ],
   "source": [
    "# univariate multi-step vector-output stacked lstm example\n",
    "# define model\n",
    "model = Sequential()\n",
    "model.add(LSTM(100, activation='relu', input_shape=(n_steps_in, n_features)))\n",
    "model.add(RepeatVector(n_steps_out))\n",
    "model.add(LSTM(100, activation='relu', return_sequences=True))\n",
    "model.add(TimeDistributed(Dense(1)))\n",
    "model.compile(optimizer='adam', loss='mean_absolute_error')\n",
    "\n",
    "# fit model\n",
    "history = model.fit(X, yc, epochs=10, verbose=0)\n",
    "\n",
    "plot(history)\n",
    "pred(model)"
   ]
  },
  {
   "cell_type": "code",
   "execution_count": 195,
   "metadata": {},
   "outputs": [
    {
     "data": {
      "text/plain": [
       "array([[[  2907.1313],\n",
       "        [ 34812.723 ],\n",
       "        [ 71387.06  ],\n",
       "        [109990.33  ]]], dtype=float32)"
      ]
     },
     "execution_count": 195,
     "metadata": {},
     "output_type": "execute_result"
    }
   ],
   "source": [
    "ycp"
   ]
  },
  {
   "cell_type": "code",
   "execution_count": 176,
   "metadata": {},
   "outputs": [
    {
     "data": {
      "text/plain": [
       "array([[[275367,   7090],\n",
       "        [308650,   8408],\n",
       "        [336802,   9619],\n",
       "        [366317,  10783],\n",
       "        [397121,  12794],\n",
       "        [428654,  14704],\n",
       "        [462780,  16544],\n",
       "        [496535,  18595],\n",
       "        [526396,  20471],\n",
       "        [555313,  22029],\n",
       "        [580619,  23538],\n",
       "        [607670,  25843],\n",
       "        [636350,  28338],\n",
       "        [667592,  32930],\n",
       "        [699706,  36787],\n",
       "        [732197,  38664],\n",
       "        [758809,  40661],\n",
       "        [784326,  42094],\n",
       "        [811865,  44444],\n",
       "        [840351,  46622]]])"
      ]
     },
     "execution_count": 176,
     "metadata": {},
     "output_type": "execute_result"
    }
   ],
   "source": [
    "Xt = np.array([Xct, Xdt])\n",
    "Xt.transpose().reshape((1, n_steps_in, n_features))# / norm\n"
   ]
  },
  {
   "cell_type": "code",
   "execution_count": 122,
   "metadata": {},
   "outputs": [
    {
     "name": "stdout",
     "output_type": "stream",
     "text": [
      "Epoch 1/50\n",
      "5/5 [==============================] - 1s 202ms/step - loss: 65.6944\n",
      "Epoch 2/50\n",
      "5/5 [==============================] - 0s 2ms/step - loss: 65.2161\n",
      "Epoch 3/50\n",
      "5/5 [==============================] - 0s 2ms/step - loss: 64.7504\n",
      "Epoch 4/50\n",
      "5/5 [==============================] - 0s 2ms/step - loss: 64.3060\n",
      "Epoch 5/50\n",
      "5/5 [==============================] - 0s 2ms/step - loss: 63.8897\n",
      "Epoch 6/50\n",
      "5/5 [==============================] - 0s 2ms/step - loss: 63.4550\n",
      "Epoch 7/50\n",
      "5/5 [==============================] - 0s 1ms/step - loss: 62.9355\n",
      "Epoch 8/50\n",
      "5/5 [==============================] - 0s 997us/step - loss: 62.3305\n",
      "Epoch 9/50\n",
      "5/5 [==============================] - 0s 3ms/step - loss: 61.6183\n",
      "Epoch 10/50\n",
      "5/5 [==============================] - 0s 1ms/step - loss: 60.7744\n",
      "Epoch 11/50\n",
      "5/5 [==============================] - 0s 997us/step - loss: 59.7690\n",
      "Epoch 12/50\n",
      "5/5 [==============================] - 0s 997us/step - loss: 58.5591\n",
      "Epoch 13/50\n",
      "5/5 [==============================] - 0s 997us/step - loss: 57.1056\n",
      "Epoch 14/50\n",
      "5/5 [==============================] - 0s 2ms/step - loss: 55.3641\n",
      "Epoch 15/50\n",
      "5/5 [==============================] - 0s 1ms/step - loss: 53.2873\n",
      "Epoch 16/50\n",
      "5/5 [==============================] - 0s 2ms/step - loss: 50.8220\n",
      "Epoch 17/50\n",
      "5/5 [==============================] - 0s 1ms/step - loss: 47.9075\n",
      "Epoch 18/50\n",
      "5/5 [==============================] - 0s 2ms/step - loss: 44.4406\n",
      "Epoch 19/50\n",
      "5/5 [==============================] - 0s 2ms/step - loss: 40.3938\n",
      "Epoch 20/50\n",
      "5/5 [==============================] - 0s 1ms/step - loss: 35.5890\n",
      "Epoch 21/50\n",
      "5/5 [==============================] - 0s 4ms/step - loss: 30.0349\n",
      "Epoch 22/50\n",
      "5/5 [==============================] - 0s 1ms/step - loss: 24.3506\n",
      "Epoch 23/50\n",
      "5/5 [==============================] - 0s 2ms/step - loss: 23.1760\n",
      "Epoch 24/50\n",
      "5/5 [==============================] - 0s 1ms/step - loss: 23.8999\n",
      "Epoch 25/50\n",
      "5/5 [==============================] - 0s 1ms/step - loss: 25.2313\n",
      "Epoch 26/50\n",
      "5/5 [==============================] - 0s 1ms/step - loss: 26.1431\n",
      "Epoch 27/50\n",
      "5/5 [==============================] - 0s 3ms/step - loss: 26.3497\n",
      "Epoch 28/50\n",
      "5/5 [==============================] - 0s 1ms/step - loss: 26.0075\n",
      "Epoch 29/50\n",
      "5/5 [==============================] - 0s 3ms/step - loss: 25.2734\n",
      "Epoch 30/50\n",
      "5/5 [==============================] - 0s 1ms/step - loss: 24.2675\n",
      "Epoch 31/50\n",
      "5/5 [==============================] - 0s 2ms/step - loss: 23.0995\n",
      "Epoch 32/50\n",
      "5/5 [==============================] - 0s 1ms/step - loss: 21.8531\n",
      "Epoch 33/50\n",
      "5/5 [==============================] - 0s 2ms/step - loss: 20.5732\n",
      "Epoch 34/50\n",
      "5/5 [==============================] - 0s 2ms/step - loss: 19.7187\n",
      "Epoch 35/50\n",
      "5/5 [==============================] - 0s 1ms/step - loss: 19.1448\n",
      "Epoch 36/50\n",
      "5/5 [==============================] - 0s 2ms/step - loss: 18.6155\n",
      "Epoch 37/50\n",
      "5/5 [==============================] - 0s 1ms/step - loss: 18.7264\n",
      "Epoch 38/50\n",
      "5/5 [==============================] - 0s 997us/step - loss: 18.9435\n",
      "Epoch 39/50\n",
      "5/5 [==============================] - 0s 996us/step - loss: 18.9956\n",
      "Epoch 40/50\n",
      "5/5 [==============================] - 0s 1ms/step - loss: 18.5865\n",
      "Epoch 41/50\n",
      "5/5 [==============================] - 0s 2ms/step - loss: 17.7494\n",
      "Epoch 42/50\n",
      "5/5 [==============================] - 0s 1ms/step - loss: 16.7287\n",
      "Epoch 43/50\n",
      "5/5 [==============================] - 0s 3ms/step - loss: 15.8886\n",
      "Epoch 44/50\n",
      "5/5 [==============================] - 0s 2ms/step - loss: 15.4598\n",
      "Epoch 45/50\n",
      "5/5 [==============================] - 0s 2ms/step - loss: 14.9869\n",
      "Epoch 46/50\n",
      "5/5 [==============================] - 0s 1ms/step - loss: 14.7185\n",
      "Epoch 47/50\n",
      "5/5 [==============================] - 0s 2ms/step - loss: 14.2778\n",
      "Epoch 48/50\n",
      "5/5 [==============================] - 0s 997us/step - loss: 13.7239\n",
      "Epoch 49/50\n",
      "5/5 [==============================] - 0s 1ms/step - loss: 13.0941\n",
      "Epoch 50/50\n",
      "5/5 [==============================] - 0s 997us/step - loss: 12.4121\n",
      "[[[ 72.92232 ]\n",
      "  [123.795044]]]\n"
     ]
    }
   ],
   "source": [
    "# univariate multi-step encoder-decoder lstm example\n",
    "from numpy import array\n",
    "from keras.models import Sequential\n",
    "from keras.layers import LSTM\n",
    "from keras.layers import Dense\n",
    "from keras.layers import RepeatVector\n",
    "from keras.layers import TimeDistributed\n",
    "\n",
    "# split a univariate sequence into samples\n",
    "def split_sequence(sequence, n_steps_in, n_steps_out):\n",
    "\tX, y = list(), list()\n",
    "\tfor i in range(len(sequence)):\n",
    "\t\t# find the end of this pattern\n",
    "\t\tend_ix = i + n_steps_in\n",
    "\t\tout_end_ix = end_ix + n_steps_out\n",
    "\t\t# check if we are beyond the sequence\n",
    "\t\tif out_end_ix > len(sequence):\n",
    "\t\t\tbreak\n",
    "\t\t# gather input and output parts of the pattern\n",
    "\t\tseq_x, seq_y = sequence[i:end_ix], sequence[end_ix:out_end_ix]\n",
    "\t\tX.append(seq_x)\n",
    "\t\ty.append(seq_y)\n",
    "\treturn array(X), array(y)\n",
    "\n",
    "# define input sequence\n",
    "raw_seq = [10, 20, 30, 40, 50, 60, 70, 80, 90]\n",
    "# choose a number of time steps\n",
    "n_steps_in, n_steps_out = 3, 2\n",
    "# split into samples\n",
    "X, y = split_sequence(raw_seq, n_steps_in, n_steps_out)\n",
    "# reshape from [samples, timesteps] into [samples, timesteps, features]\n",
    "n_features = 1\n",
    "X = X.reshape((X.shape[0], X.shape[1], n_features))\n",
    "y = y.reshape((y.shape[0], y.shape[1], n_features))\n",
    "# define model\n",
    "model = Sequential()\n",
    "model.add(LSTM(100, activation='relu', input_shape=(n_steps_in, n_features)))\n",
    "model.add(RepeatVector(n_steps_out))\n",
    "model.add(LSTM(100, activation='relu', return_sequences=True))\n",
    "model.add(TimeDistributed(Dense(1)))\n",
    "model.compile(optimizer='adam', loss='mean_absolute_error')\n",
    "# fit model\n",
    "model.fit(X, y, epochs=50, verbose=1)\n",
    "# demonstrate prediction\n",
    "x_input = array([70, 80, 90])\n",
    "x_input = x_input.reshape((1, n_steps_in, n_features))\n",
    "yhat = model.predict(x_input, verbose=0)\n",
    "print(yhat)"
   ]
  }
 ],
 "metadata": {
  "kernelspec": {
   "display_name": "Python 3",
   "language": "python",
   "name": "python3"
  },
  "language_info": {
   "codemirror_mode": {
    "name": "ipython",
    "version": 3
   },
   "file_extension": ".py",
   "mimetype": "text/x-python",
   "name": "python",
   "nbconvert_exporter": "python",
   "pygments_lexer": "ipython3",
   "version": "3.7.3"
  }
 },
 "nbformat": 4,
 "nbformat_minor": 2
}
